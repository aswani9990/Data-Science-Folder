{
  "nbformat": 4,
  "nbformat_minor": 0,
  "metadata": {
    "colab": {
      "provenance": [],
      "authorship_tag": "ABX9TyOLaBpEELkagUh6GJjlo7ym",
      "include_colab_link": true
    },
    "kernelspec": {
      "name": "python3",
      "display_name": "Python 3"
    },
    "language_info": {
      "name": "python"
    }
  },
  "cells": [
    {
      "cell_type": "markdown",
      "metadata": {
        "id": "view-in-github",
        "colab_type": "text"
      },
      "source": [
        "<a href=\"https://colab.research.google.com/github/aswani9990/Data-Science-Folder/blob/main/List_comprehension.ipynb\" target=\"_parent\"><img src=\"https://colab.research.google.com/assets/colab-badge.svg\" alt=\"Open In Colab\"/></a>"
      ]
    },
    {
      "cell_type": "code",
      "execution_count": 3,
      "metadata": {
        "colab": {
          "base_uri": "https://localhost:8080/"
        },
        "id": "nqfNFzzbpoel",
        "outputId": "e1e56ed1-6f89-4b47-a523-7b3887814193"
      },
      "outputs": [
        {
          "output_type": "stream",
          "name": "stdout",
          "text": [
            "['apple']\n",
            "['apple', 'banana']\n"
          ]
        }
      ],
      "source": [
        "fruits = ['apple', 'banana', 'kiwi', 'cherry']\n",
        "new_list = []\n",
        "for i in fruits:\n",
        "  if 'a' in i:\n",
        "    new_list.append(i)\n",
        "    print(new_list)\n"
      ]
    },
    {
      "cell_type": "code",
      "execution_count": 6,
      "metadata": {
        "colab": {
          "base_uri": "https://localhost:8080/"
        },
        "outputId": "705b2ac1-b7d9-4705-bcb9-2aba3b84ff05",
        "id": "6JL2mO76rCFf"
      },
      "outputs": [
        {
          "output_type": "stream",
          "name": "stdout",
          "text": [
            "['apple', 'banana']\n"
          ]
        }
      ],
      "source": [
        "fruits = ['apple', 'banana', 'kiwi', 'cherry']\n",
        "newlist = [x for x in fruits if 'a' in x]\n",
        "print(newlist)"
      ]
    },
    {
      "cell_type": "code",
      "execution_count": 9,
      "metadata": {
        "colab": {
          "base_uri": "https://localhost:8080/"
        },
        "outputId": "7fa9cf9f-6e0c-4722-ebda-b83d4a6d273c",
        "id": "R5p0TtHvryHo"
      },
      "outputs": [
        {
          "output_type": "stream",
          "name": "stdout",
          "text": [
            "['apple', 'kiwi', 'cherry']\n"
          ]
        }
      ],
      "source": [
        "fruits = ['apple', 'banana', 'kiwi', 'cherry']\n",
        "new_list = [x for x in fruits if x !='banana']\n",
        "print(new_list)"
      ]
    },
    {
      "cell_type": "code",
      "source": [
        "veg = ['pea', 'tomato','fig','potato']\n",
        "veg_list = [x for x in veg]\n",
        "print(veg)"
      ],
      "metadata": {
        "colab": {
          "base_uri": "https://localhost:8080/"
        },
        "id": "Ak2S2iMPsB3m",
        "outputId": "f20a9afb-064b-4a84-9fa4-197cf585f447"
      },
      "execution_count": 10,
      "outputs": [
        {
          "output_type": "stream",
          "name": "stdout",
          "text": [
            "['pea', 'tomato', 'fig', 'potato']\n"
          ]
        }
      ]
    },
    {
      "cell_type": "code",
      "source": [
        "new_list = [x for x in range(11)]\n",
        "print(new_list)"
      ],
      "metadata": {
        "colab": {
          "base_uri": "https://localhost:8080/"
        },
        "id": "C_vv0QgKtGaQ",
        "outputId": "c786fb07-3681-4efd-dd51-c5589525ebbd"
      },
      "execution_count": 12,
      "outputs": [
        {
          "output_type": "stream",
          "name": "stdout",
          "text": [
            "[0, 1, 2, 3, 4, 5, 6, 7, 8, 9, 10]\n"
          ]
        }
      ]
    },
    {
      "cell_type": "code",
      "source": [
        "new_list = [x for x in range(1,10,2)]\n",
        "print(new_list)"
      ],
      "metadata": {
        "colab": {
          "base_uri": "https://localhost:8080/"
        },
        "id": "xyFaiXKjtk_w",
        "outputId": "903cd126-1805-4337-fe1b-2c8f2c52a12a"
      },
      "execution_count": 14,
      "outputs": [
        {
          "output_type": "stream",
          "name": "stdout",
          "text": [
            "[1, 3, 5, 7, 9]\n"
          ]
        }
      ]
    },
    {
      "cell_type": "code",
      "source": [
        "new_list = [x for x in range(0,5)]\n",
        "print(new_list)\n"
      ],
      "metadata": {
        "colab": {
          "base_uri": "https://localhost:8080/"
        },
        "id": "EzuFZWeqt9Zq",
        "outputId": "a100e78f-4fbe-4822-c873-d25960b2c13c"
      },
      "execution_count": 15,
      "outputs": [
        {
          "output_type": "stream",
          "name": "stdout",
          "text": [
            "[0, 1, 2, 3, 4]\n"
          ]
        }
      ]
    },
    {
      "cell_type": "code",
      "source": [
        "new = [x for x in range(5) if x > 4]\n",
        "print(new)"
      ],
      "metadata": {
        "colab": {
          "base_uri": "https://localhost:8080/"
        },
        "id": "MnM8DVPguXvK",
        "outputId": "136245c2-b8f2-4ea1-e039-8bd2ef793cfe"
      },
      "execution_count": 18,
      "outputs": [
        {
          "output_type": "stream",
          "name": "stdout",
          "text": [
            "[]\n"
          ]
        }
      ]
    },
    {
      "cell_type": "code",
      "source": [
        "new = [x for x in range(5) if x < 4]\n",
        "print(new)"
      ],
      "metadata": {
        "colab": {
          "base_uri": "https://localhost:8080/"
        },
        "outputId": "47a55acd-d874-4617-92b8-2489581ddc9e",
        "id": "hOLZF7Qnu-Pz"
      },
      "execution_count": 19,
      "outputs": [
        {
          "output_type": "stream",
          "name": "stdout",
          "text": [
            "[0, 1, 2, 3]\n"
          ]
        }
      ]
    },
    {
      "cell_type": "markdown",
      "source": [
        "**Syntax for List comprehension**\n",
        "\n",
        "New_list = [Expression for item in iterable if condition == True]"
      ],
      "metadata": {
        "id": "TROBVSlSvygh"
      }
    },
    {
      "cell_type": "code",
      "source": [
        "#you can manipulate new list with otehr method but you can used with expression with dot. operator\n",
        "fast_food = ['pizza','snaks','biscuit','burger','momose']\n",
        "new_fast_list = [x.upper() for x in fast_food ]\n",
        "print(new_fast_list)"
      ],
      "metadata": {
        "colab": {
          "base_uri": "https://localhost:8080/"
        },
        "id": "3mwgj9gmwY1W",
        "outputId": "2bd60c17-ffb0-482d-9173-c544687930cb"
      },
      "execution_count": 22,
      "outputs": [
        {
          "output_type": "stream",
          "name": "stdout",
          "text": [
            "['PIZZA', 'SNAKS', 'BISCUIT', 'BURGER', 'MOMOSE']\n"
          ]
        }
      ]
    },
    {
      "cell_type": "code",
      "source": [
        "#you can manipulate new list with otehr method but you can used with expression with dot. operator\n",
        "fast_food = ['pizza','snaks','biscuit','burger','momose']\n",
        "new_fast_list = [x.capitalize() for x in fast_food ]\n",
        "print(new_fast_list)"
      ],
      "metadata": {
        "colab": {
          "base_uri": "https://localhost:8080/"
        },
        "outputId": "124c411f-8f93-41eb-a87b-d8fa75a39752",
        "id": "lKW0a0_mylnM"
      },
      "execution_count": 23,
      "outputs": [
        {
          "output_type": "stream",
          "name": "stdout",
          "text": [
            "['Pizza', 'Snaks', 'Biscuit', 'Burger', 'Momose']\n"
          ]
        }
      ]
    },
    {
      "cell_type": "code",
      "source": [
        "#you can manipulate new list with otehr method but you can used with expression with dot. operator\n",
        "fast_food = ['Pizza','Snaks','Biscuit','Burger','Momose']\n",
        "new_fast_list = [x.lower() for x in fast_food ]\n",
        "print(new_fast_list)"
      ],
      "metadata": {
        "colab": {
          "base_uri": "https://localhost:8080/"
        },
        "outputId": "a4e06bd4-f30f-4253-9db4-b1fc996d1737",
        "id": "L_IJIBdTyt6i"
      },
      "execution_count": 24,
      "outputs": [
        {
          "output_type": "stream",
          "name": "stdout",
          "text": [
            "['pizza', 'snaks', 'biscuit', 'burger', 'momose']\n"
          ]
        }
      ]
    },
    {
      "cell_type": "code",
      "source": [
        "#you can manipulate new list with otehr method but you can used with expression with dot. operator\n",
        "new_fast_list = [ 'hello' for x in fast_food ]\n",
        "print(new_fast_list)               #it repalce fastfood item with hello a/c to item present in fastfood"
      ],
      "metadata": {
        "colab": {
          "base_uri": "https://localhost:8080/"
        },
        "outputId": "4d231b0f-c09b-4448-faca-d83f58b6d009",
        "id": "zFWKybEizDB6"
      },
      "execution_count": 26,
      "outputs": [
        {
          "output_type": "stream",
          "name": "stdout",
          "text": [
            "['hello', 'hello', 'hello', 'hello', 'hello']\n"
          ]
        }
      ]
    },
    {
      "cell_type": "code",
      "source": [
        "#return 'pepsi' instead of burger\n",
        "fast_food = ['pizza','snaks','biscuit','burger','momose']\n",
        "new_fast_list = [x if x != \"burger\" else \"orange\" for x in fast_food]\n",
        "print(new_fast_list)"
      ],
      "metadata": {
        "colab": {
          "base_uri": "https://localhost:8080/"
        },
        "outputId": "c42c31ae-bdbe-4f26-c76f-fd099ee50705",
        "id": "ggG5BVJ_z2xO"
      },
      "execution_count": 33,
      "outputs": [
        {
          "output_type": "stream",
          "name": "stdout",
          "text": [
            "['pizza', 'snaks', 'biscuit', 'orange', 'momose']\n"
          ]
        }
      ]
    },
    {
      "cell_type": "code",
      "source": [],
      "metadata": {
        "id": "GKBUXBjD0ZS-"
      },
      "execution_count": null,
      "outputs": []
    }
  ]
}