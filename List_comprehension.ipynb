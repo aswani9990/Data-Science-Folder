{
  "nbformat": 4,
  "nbformat_minor": 0,
  "metadata": {
    "colab": {
      "provenance": [],
      "authorship_tag": "ABX9TyNO5DlMcFjgDnVOfT2brA5S",
      "include_colab_link": true
    },
    "kernelspec": {
      "name": "python3",
      "display_name": "Python 3"
    },
    "language_info": {
      "name": "python"
    }
  },
  "cells": [
    {
      "cell_type": "markdown",
      "metadata": {
        "id": "view-in-github",
        "colab_type": "text"
      },
      "source": [
        "<a href=\"https://colab.research.google.com/github/aswani9990/Data-Science-Folder/blob/main/List_comprehension.ipynb\" target=\"_parent\"><img src=\"https://colab.research.google.com/assets/colab-badge.svg\" alt=\"Open In Colab\"/></a>"
      ]
    },
    {
      "cell_type": "code",
      "execution_count": null,
      "metadata": {
        "colab": {
          "base_uri": "https://localhost:8080/"
        },
        "id": "nqfNFzzbpoel",
        "outputId": "e1e56ed1-6f89-4b47-a523-7b3887814193"
      },
      "outputs": [
        {
          "output_type": "stream",
          "name": "stdout",
          "text": [
            "['apple']\n",
            "['apple', 'banana']\n"
          ]
        }
      ],
      "source": [
        "fruits = ['apple', 'banana', 'kiwi', 'cherry']\n",
        "new_list = []\n",
        "for i in fruits:\n",
        "  if 'a' in i:\n",
        "    new_list.append(i)\n",
        "    print(new_list)\n"
      ]
    },
    {
      "cell_type": "code",
      "execution_count": null,
      "metadata": {
        "colab": {
          "base_uri": "https://localhost:8080/"
        },
        "outputId": "705b2ac1-b7d9-4705-bcb9-2aba3b84ff05",
        "id": "6JL2mO76rCFf"
      },
      "outputs": [
        {
          "output_type": "stream",
          "name": "stdout",
          "text": [
            "['apple', 'banana']\n"
          ]
        }
      ],
      "source": [
        "fruits = ['apple', 'banana', 'kiwi', 'cherry']\n",
        "newlist = [x for x in fruits if 'a' in x]\n",
        "print(newlist)"
      ]
    },
    {
      "cell_type": "code",
      "execution_count": null,
      "metadata": {
        "colab": {
          "base_uri": "https://localhost:8080/"
        },
        "outputId": "7fa9cf9f-6e0c-4722-ebda-b83d4a6d273c",
        "id": "R5p0TtHvryHo"
      },
      "outputs": [
        {
          "output_type": "stream",
          "name": "stdout",
          "text": [
            "['apple', 'kiwi', 'cherry']\n"
          ]
        }
      ],
      "source": [
        "fruits = ['apple', 'banana', 'kiwi', 'cherry']\n",
        "new_list = [x for x in fruits if x !='banana']\n",
        "print(new_list)"
      ]
    },
    {
      "cell_type": "code",
      "source": [
        "veg = ['pea', 'tomato','fig','potato']\n",
        "veg_list = [x for x in veg]\n",
        "print(veg)"
      ],
      "metadata": {
        "colab": {
          "base_uri": "https://localhost:8080/"
        },
        "id": "Ak2S2iMPsB3m",
        "outputId": "f20a9afb-064b-4a84-9fa4-197cf585f447"
      },
      "execution_count": null,
      "outputs": [
        {
          "output_type": "stream",
          "name": "stdout",
          "text": [
            "['pea', 'tomato', 'fig', 'potato']\n"
          ]
        }
      ]
    },
    {
      "cell_type": "code",
      "source": [
        "new_list = [x for x in range(11)]\n",
        "print(new_list)"
      ],
      "metadata": {
        "colab": {
          "base_uri": "https://localhost:8080/"
        },
        "id": "C_vv0QgKtGaQ",
        "outputId": "c786fb07-3681-4efd-dd51-c5589525ebbd"
      },
      "execution_count": null,
      "outputs": [
        {
          "output_type": "stream",
          "name": "stdout",
          "text": [
            "[0, 1, 2, 3, 4, 5, 6, 7, 8, 9, 10]\n"
          ]
        }
      ]
    },
    {
      "cell_type": "code",
      "source": [
        "new_list = [x for x in range(1,10,2)]\n",
        "print(new_list)"
      ],
      "metadata": {
        "colab": {
          "base_uri": "https://localhost:8080/"
        },
        "id": "xyFaiXKjtk_w",
        "outputId": "903cd126-1805-4337-fe1b-2c8f2c52a12a"
      },
      "execution_count": null,
      "outputs": [
        {
          "output_type": "stream",
          "name": "stdout",
          "text": [
            "[1, 3, 5, 7, 9]\n"
          ]
        }
      ]
    },
    {
      "cell_type": "code",
      "source": [
        "new_list = [x for x in range(0,5)]\n",
        "print(new_list)\n"
      ],
      "metadata": {
        "colab": {
          "base_uri": "https://localhost:8080/"
        },
        "id": "EzuFZWeqt9Zq",
        "outputId": "a100e78f-4fbe-4822-c873-d25960b2c13c"
      },
      "execution_count": null,
      "outputs": [
        {
          "output_type": "stream",
          "name": "stdout",
          "text": [
            "[0, 1, 2, 3, 4]\n"
          ]
        }
      ]
    },
    {
      "cell_type": "code",
      "source": [
        "new = [x for x in range(5) if x > 4]\n",
        "print(new)"
      ],
      "metadata": {
        "colab": {
          "base_uri": "https://localhost:8080/"
        },
        "id": "MnM8DVPguXvK",
        "outputId": "136245c2-b8f2-4ea1-e039-8bd2ef793cfe"
      },
      "execution_count": null,
      "outputs": [
        {
          "output_type": "stream",
          "name": "stdout",
          "text": [
            "[]\n"
          ]
        }
      ]
    },
    {
      "cell_type": "code",
      "source": [
        "new = [x for x in range(5) if x < 4]\n",
        "print(new)"
      ],
      "metadata": {
        "colab": {
          "base_uri": "https://localhost:8080/"
        },
        "outputId": "47a55acd-d874-4617-92b8-2489581ddc9e",
        "id": "hOLZF7Qnu-Pz"
      },
      "execution_count": null,
      "outputs": [
        {
          "output_type": "stream",
          "name": "stdout",
          "text": [
            "[0, 1, 2, 3]\n"
          ]
        }
      ]
    },
    {
      "cell_type": "markdown",
      "source": [
        "**Syntax for List comprehension**\n",
        "\n",
        "New_list = [Expression for item in iterable if condition == True]"
      ],
      "metadata": {
        "id": "TROBVSlSvygh"
      }
    },
    {
      "cell_type": "code",
      "source": [
        "#you can manipulate new list with otehr method but you can used with expression with dot. operator\n",
        "fast_food = ['pizza','snaks','biscuit','burger','momose']\n",
        "new_fast_list = [x.upper() for x in fast_food ]\n",
        "print(new_fast_list)"
      ],
      "metadata": {
        "colab": {
          "base_uri": "https://localhost:8080/"
        },
        "id": "3mwgj9gmwY1W",
        "outputId": "2bd60c17-ffb0-482d-9173-c544687930cb"
      },
      "execution_count": null,
      "outputs": [
        {
          "output_type": "stream",
          "name": "stdout",
          "text": [
            "['PIZZA', 'SNAKS', 'BISCUIT', 'BURGER', 'MOMOSE']\n"
          ]
        }
      ]
    },
    {
      "cell_type": "code",
      "source": [
        "#you can manipulate new list with otehr method but you can used with expression with dot. operator\n",
        "fast_food = ['pizza','snaks','biscuit','burger','momose']\n",
        "new_fast_list = [x.capitalize() for x in fast_food ]\n",
        "print(new_fast_list)"
      ],
      "metadata": {
        "colab": {
          "base_uri": "https://localhost:8080/"
        },
        "outputId": "124c411f-8f93-41eb-a87b-d8fa75a39752",
        "id": "lKW0a0_mylnM"
      },
      "execution_count": null,
      "outputs": [
        {
          "output_type": "stream",
          "name": "stdout",
          "text": [
            "['Pizza', 'Snaks', 'Biscuit', 'Burger', 'Momose']\n"
          ]
        }
      ]
    },
    {
      "cell_type": "code",
      "source": [
        "#you can manipulate new list with otehr method but you can used with expression with dot. operator\n",
        "fast_food = ['Pizza','Snaks','Biscuit','Burger','Momose']\n",
        "new_fast_list = [x.lower() for x in fast_food ]\n",
        "print(new_fast_list)"
      ],
      "metadata": {
        "colab": {
          "base_uri": "https://localhost:8080/"
        },
        "outputId": "a4e06bd4-f30f-4253-9db4-b1fc996d1737",
        "id": "L_IJIBdTyt6i"
      },
      "execution_count": null,
      "outputs": [
        {
          "output_type": "stream",
          "name": "stdout",
          "text": [
            "['pizza', 'snaks', 'biscuit', 'burger', 'momose']\n"
          ]
        }
      ]
    },
    {
      "cell_type": "code",
      "source": [
        "#you can manipulate new list with otehr method but you can used with expression with dot. operator\n",
        "new_fast_list = [ 'hello' for x in fast_food ]\n",
        "print(new_fast_list)               #it repalce fastfood item with hello a/c to item present in fastfood"
      ],
      "metadata": {
        "colab": {
          "base_uri": "https://localhost:8080/"
        },
        "outputId": "4d231b0f-c09b-4448-faca-d83f58b6d009",
        "id": "zFWKybEizDB6"
      },
      "execution_count": null,
      "outputs": [
        {
          "output_type": "stream",
          "name": "stdout",
          "text": [
            "['hello', 'hello', 'hello', 'hello', 'hello']\n"
          ]
        }
      ]
    },
    {
      "cell_type": "code",
      "source": [
        "#return 'pepsi' instead of burger\n",
        "fast_food = ['pizza','snaks','biscuit','burger','momose']\n",
        "new_fast_list = [x if x != \"burger\" else \"orange\" for x in fast_food]\n",
        "print(new_fast_list)"
      ],
      "metadata": {
        "colab": {
          "base_uri": "https://localhost:8080/"
        },
        "outputId": "c42c31ae-bdbe-4f26-c76f-fd099ee50705",
        "id": "ggG5BVJ_z2xO"
      },
      "execution_count": null,
      "outputs": [
        {
          "output_type": "stream",
          "name": "stdout",
          "text": [
            "['pizza', 'snaks', 'biscuit', 'orange', 'momose']\n"
          ]
        }
      ]
    },
    {
      "cell_type": "code",
      "source": [
        "#ieration through list\n",
        "list=[char for char in [1,2,3]]\n",
        "print(list)"
      ],
      "metadata": {
        "id": "GKBUXBjD0ZS-",
        "colab": {
          "base_uri": "https://localhost:8080/"
        },
        "outputId": "12ff8c94-339f-429a-aa29-32537dd37e06"
      },
      "execution_count": 2,
      "outputs": [
        {
          "output_type": "stream",
          "name": "stdout",
          "text": [
            "[1, 2, 3]\n"
          ]
        }
      ]
    },
    {
      "cell_type": "code",
      "source": [
        "#even list using list comprehension\n",
        "even =[i for i in range(11) if i%2 == 0]\n",
        "print(even)"
      ],
      "metadata": {
        "colab": {
          "base_uri": "https://localhost:8080/"
        },
        "id": "PoF7PfyLAcnT",
        "outputId": "1c481f25-bc67-4393-ba97-912aa1e159f3"
      },
      "execution_count": 3,
      "outputs": [
        {
          "output_type": "stream",
          "name": "stdout",
          "text": [
            "[0, 2, 4, 6, 8, 10]\n"
          ]
        }
      ]
    },
    {
      "cell_type": "code",
      "source": [
        "#odd list using list comprehension\n",
        "odd =[i for i in range(11) if i%2 != 0]\n",
        "print(odd)"
      ],
      "metadata": {
        "colab": {
          "base_uri": "https://localhost:8080/"
        },
        "outputId": "a5eac258-fe06-4498-ede1-f6d7f48d91db",
        "id": "V6W4L8s4BIBh"
      },
      "execution_count": 4,
      "outputs": [
        {
          "output_type": "stream",
          "name": "stdout",
          "text": [
            "[1, 3, 5, 7, 9]\n"
          ]
        }
      ]
    },
    {
      "cell_type": "code",
      "source": [
        "#matrix using list comprehension\n",
        "matrix=[[j for j in range(4)] for i in range(4)]\n",
        "print(matrix)"
      ],
      "metadata": {
        "colab": {
          "base_uri": "https://localhost:8080/"
        },
        "id": "VvKpvAy9BShP",
        "outputId": "fd815087-8268-4fca-d5f7-7f4ca77e21fb"
      },
      "execution_count": 16,
      "outputs": [
        {
          "output_type": "stream",
          "name": "stdout",
          "text": [
            "[[0, 1, 2, 3], [0, 1, 2, 3], [0, 1, 2, 3], [0, 1, 2, 3]]\n"
          ]
        }
      ]
    },
    {
      "cell_type": "code",
      "source": [
        "#iteration \n",
        "list=[]\n",
        "for char in \"learn4chatgpt!\":\n",
        "  list.append(char)\n",
        "  print(char)"
      ],
      "metadata": {
        "colab": {
          "base_uri": "https://localhost:8080/"
        },
        "id": "mxFcvNRYCJBh",
        "outputId": "b1c261eb-427c-4ef2-f4fb-d1a4a458a664"
      },
      "execution_count": 20,
      "outputs": [
        {
          "output_type": "stream",
          "name": "stdout",
          "text": [
            "l\n",
            "e\n",
            "a\n",
            "r\n",
            "n\n",
            "4\n",
            "c\n",
            "h\n",
            "a\n",
            "t\n",
            "g\n",
            "p\n",
            "t\n",
            "!\n"
          ]
        }
      ]
    },
    {
      "cell_type": "code",
      "source": [
        "#using list comprehension for iteration\n",
        "list=[char for char in 'learn chatgpt for future']\n",
        "print(list)"
      ],
      "metadata": {
        "colab": {
          "base_uri": "https://localhost:8080/"
        },
        "id": "iWctPc1ND-Ot",
        "outputId": "ff9aebeb-5c99-4d5a-dfed-26722bf74bae"
      },
      "execution_count": 21,
      "outputs": [
        {
          "output_type": "stream",
          "name": "stdout",
          "text": [
            "['l', 'e', 'a', 'r', 'n', ' ', 'c', 'h', 'a', 't', 'g', 'p', 't', ' ', 'f', 'o', 'r', ' ', 'f', 'u', 't', 'u', 'r', 'e']\n"
          ]
        }
      ]
    },
    {
      "cell_type": "code",
      "source": [
        "#time analysis through list comprehension\n",
        "# Import required module\n",
        "import time\n",
        "\n",
        "\n",
        "# define function to implement for loop\n",
        "def for_loop(n):\n",
        "\tresult = []\n",
        "\tfor i in range(n):\n",
        "\t\tresult.append(i**2)\n",
        "\treturn result\n",
        "\n",
        "\n",
        "# define function to implement list comprehension\n",
        "def list_comprehension(n):\n",
        "\treturn [i**2 for i in range(n)]\n",
        "\n",
        "\n",
        "# Driver Code\n",
        "\n",
        "# Calculate time takens by for_loop()\n",
        "begin = time.time()\n",
        "for_loop(10**6)\n",
        "end = time.time()\n",
        "\n",
        "# Display time taken by for_loop()\n",
        "print('Time taken for_loop:', round(end-begin, 2))\n",
        "\n",
        "# Calculate time takens by list_comprehension()\n",
        "begin = time.time()\n",
        "list_comprehension(10**6)\n",
        "end = time.time()\n",
        "\n",
        "# Display time taken by for_loop()\n",
        "print('Time taken for list_comprehension:', round(end-begin, 2))\n"
      ],
      "metadata": {
        "colab": {
          "base_uri": "https://localhost:8080/"
        },
        "id": "xE5qOXuED-dC",
        "outputId": "e21dc732-099f-47f9-8694-5e8ab75be1cd"
      },
      "execution_count": 22,
      "outputs": [
        {
          "output_type": "stream",
          "name": "stdout",
          "text": [
            "Time taken for_loop: 0.38\n",
            "Time taken for list_comprehension: 0.33\n"
          ]
        }
      ]
    },
    {
      "cell_type": "code",
      "source": [
        "#nested list compre\n",
        "matrix = []\n",
        "\n",
        "for i in range(3):\n",
        "\n",
        "\t# Append an empty sublist inside the list\n",
        "\tmatrix.append([])\n",
        "\n",
        "\tfor j in range(5):\n",
        "\t\tmatrix[i].append(j)\n",
        "\n",
        "print(matrix)\n"
      ],
      "metadata": {
        "colab": {
          "base_uri": "https://localhost:8080/"
        },
        "id": "OhI13ObiD-nI",
        "outputId": "df8bcc06-1c17-459e-c86c-23eda46543ca"
      },
      "execution_count": 23,
      "outputs": [
        {
          "output_type": "stream",
          "name": "stdout",
          "text": [
            "[[0, 1, 2, 3, 4], [0, 1, 2, 3, 4], [0, 1, 2, 3, 4]]\n"
          ]
        }
      ]
    },
    {
      "cell_type": "code",
      "source": [
        "# Nested list comprehension\n",
        "matrix = [[j for j in range(5)] for i in range(3)]\n",
        "\n",
        "print(matrix)\n"
      ],
      "metadata": {
        "colab": {
          "base_uri": "https://localhost:8080/"
        },
        "id": "OA47g3WxD-pZ",
        "outputId": "2c0930c0-73f2-4394-de83-955f3d8c5f27"
      },
      "execution_count": 24,
      "outputs": [
        {
          "output_type": "stream",
          "name": "stdout",
          "text": [
            "[[0, 1, 2, 3, 4], [0, 1, 2, 3, 4], [0, 1, 2, 3, 4]]\n"
          ]
        }
      ]
    },
    {
      "cell_type": "code",
      "source": [
        "#list comprehension with lamda function\n",
        "# using lambda to print table of 10\n",
        "numbers = []\n",
        "\n",
        "for i in range(1, 8):\n",
        "\tnumbers.append(i*10)\n",
        "\n",
        "print(numbers)\n"
      ],
      "metadata": {
        "colab": {
          "base_uri": "https://localhost:8080/"
        },
        "id": "HfObWG33D-s7",
        "outputId": "f54e006f-42ef-4793-ee4f-a4675ee6d799"
      },
      "execution_count": 25,
      "outputs": [
        {
          "output_type": "stream",
          "name": "stdout",
          "text": [
            "[10, 20, 30, 40, 50, 60, 70]\n"
          ]
        }
      ]
    },
    {
      "cell_type": "code",
      "source": [
        "#list comprehension for table 0f 10\n",
        "numbers = [i*10 for i in range(1, 9)]\n",
        "\n",
        "print(numbers)\n"
      ],
      "metadata": {
        "colab": {
          "base_uri": "https://localhost:8080/"
        },
        "id": "xxpgSvvpD-xc",
        "outputId": "fe105644-5644-4d05-bd4e-fa9fe03ef848"
      },
      "execution_count": 27,
      "outputs": [
        {
          "output_type": "stream",
          "name": "stdout",
          "text": [
            "[10, 20, 30, 40, 50, 60, 70, 80]\n"
          ]
        }
      ]
    },
    {
      "cell_type": "code",
      "source": [
        "#if and else \n",
        "lis = [\"Even number\" if i % 2 == 0\n",
        "\telse \"Odd number\" for i in range(8)]\n",
        "print(lis)\n"
      ],
      "metadata": {
        "colab": {
          "base_uri": "https://localhost:8080/"
        },
        "id": "fwxx6qzoD_Av",
        "outputId": "f8116e24-b6c1-4000-ec2e-084a95c937cb"
      },
      "execution_count": 34,
      "outputs": [
        {
          "output_type": "stream",
          "name": "stdout",
          "text": [
            "['Even number', 'Odd number', 'Even number', 'Odd number', 'Even number', 'Odd number', 'Even number', 'Odd number']\n"
          ]
        }
      ]
    },
    {
      "cell_type": "code",
      "source": [
        "#nested if list comprehension\n",
        "lis = [num for num in range(100)\n",
        "\tif num % 5 == 0 if num % 10 == 0]\n",
        "print(lis)\n"
      ],
      "metadata": {
        "colab": {
          "base_uri": "https://localhost:8080/"
        },
        "id": "v06UrlztIjnp",
        "outputId": "4e26b773-3c1f-4dd8-c457-f8f30c5bc0e4"
      },
      "execution_count": 35,
      "outputs": [
        {
          "output_type": "stream",
          "name": "stdout",
          "text": [
            "[0, 10, 20, 30, 40, 50, 60, 70, 80, 90]\n"
          ]
        }
      ]
    },
    {
      "cell_type": "code",
      "source": [
        "# Getting square of from 1 to 10\n",
        "squares = [n**2 for n in range(1, 11)]\n",
        "\n",
        "# Display square of even numbers\n",
        "print(squares)\n"
      ],
      "metadata": {
        "colab": {
          "base_uri": "https://localhost:8080/"
        },
        "id": "kHFb1r6nIj2w",
        "outputId": "8a7c3056-ec71-4bb2-f89d-538438887b1f"
      },
      "execution_count": 36,
      "outputs": [
        {
          "output_type": "stream",
          "name": "stdout",
          "text": [
            "[1, 4, 9, 16, 25, 36, 49, 64, 81, 100]\n"
          ]
        }
      ]
    },
    {
      "cell_type": "code",
      "source": [
        "#display transpose of 2d\n",
        "# Assign matrix\n",
        "twoDMatrix = [[10, 20, 30],\n",
        "\t\t\t[40, 50, 60],\n",
        "\t\t\t[70, 80, 90]]\n",
        "\n",
        "# Generate transpose\n",
        "trans = [[i[j] for i in twoDMatrix] for j in range(len(twoDMatrix[0]))]\n",
        "\n",
        "print(trans)\n"
      ],
      "metadata": {
        "colab": {
          "base_uri": "https://localhost:8080/"
        },
        "id": "5mDVeYySIj5G",
        "outputId": "c6a52f03-ff4c-49f6-fa38-21b04b123b32"
      },
      "execution_count": 37,
      "outputs": [
        {
          "output_type": "stream",
          "name": "stdout",
          "text": [
            "[[10, 40, 70], [20, 50, 80], [30, 60, 90]]\n"
          ]
        }
      ]
    },
    {
      "cell_type": "code",
      "source": [
        "#reverse the tupple\n",
        "# Reverse each string in tuple\n",
        "List = [string[::-1] for string in ('Geeks', 'for', 'Geeks')]\n",
        "\n",
        "# Display list\n",
        "print(List)\n"
      ],
      "metadata": {
        "colab": {
          "base_uri": "https://localhost:8080/"
        },
        "id": "vzFVApW1Ij-x",
        "outputId": "418c9405-ee87-4f82-e661-b4b794e42e18"
      },
      "execution_count": 41,
      "outputs": [
        {
          "output_type": "stream",
          "name": "stdout",
          "text": [
            "['skeeG', 'rof', 'skeeG']\n"
          ]
        }
      ]
    },
    {
      "cell_type": "code",
      "source": [
        "#display the sum of digit of all odd element\n",
        "# Explicit function\n",
        "def digitSum(n):\n",
        "\tdsum = 0\n",
        "\tfor ele in str(n):\n",
        "\t\tdsum += int(ele)\n",
        "\treturn dsum\n",
        "\n",
        "\n",
        "# Initializing list\n",
        "List = [367, 111, 562, 945, 6726, 873]\n",
        "\n",
        "# Using the function on odd elements of the list\n",
        "newList = [digitSum(i) for i in List if i & 1]\n",
        "\n",
        "# Displaying new list\n",
        "print(newList)\n"
      ],
      "metadata": {
        "colab": {
          "base_uri": "https://localhost:8080/"
        },
        "id": "LTK6rxsZIkHM",
        "outputId": "61bd8687-e7fc-430e-c3fb-1269ced020f1"
      },
      "execution_count": 42,
      "outputs": [
        {
          "output_type": "stream",
          "name": "stdout",
          "text": [
            "[16, 3, 18, 18]\n"
          ]
        }
      ]
    },
    {
      "cell_type": "code",
      "source": [],
      "metadata": {
        "id": "GRzx0Z-JIkJz"
      },
      "execution_count": null,
      "outputs": []
    },
    {
      "cell_type": "code",
      "source": [],
      "metadata": {
        "id": "CpEmT_bMIkOM"
      },
      "execution_count": null,
      "outputs": []
    },
    {
      "cell_type": "code",
      "source": [],
      "metadata": {
        "id": "GrmbEg_LIkRu"
      },
      "execution_count": null,
      "outputs": []
    }
  ]
}